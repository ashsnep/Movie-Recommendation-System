{
 "cells": [
  {
   "cell_type": "code",
   "execution_count": null,
   "metadata": {},
   "outputs": [],
   "source": [
    "# Check if GPU is available\n",
    "if tf.test.is_gpu_available():\n",
    "    print('GPU acceleration is Pedal to the Metal? (apple rizz).')\n",
    "else:\n",
    "    print('lmao no')\n",
    "\n",
    "# Create the model\n",
    "model = MovieModel(rating_weight=1.0, retrieval_weight=1.0)\n",
    "\n",
    "# Compile the model\n",
    "model.compile(optimizer=tf.keras.optimizers.Adagrad(0.1))\n",
    "\n",
    "# Define the data pipelines\n",
    "cached_train = train.shuffle(100_000).batch(1_000).cache()\n",
    "cached_test = test.batch(1_000).cache()\n",
    "\n",
    "# Define the strategy for distributed training\n",
    "strategy = tf.distribute.OneDeviceStrategy(\"GPU:0\")  # Replace 'GPU:0' with the appropriate GPU device name\n",
    "\n",
    "# Create a distributed training loop\n",
    "with strategy.scope():\n",
    "    model.fit(cached_train, epochs=3)\n"
   ]
  }
 ],
 "metadata": {
  "language_info": {
   "name": "python"
  },
  "orig_nbformat": 4
 },
 "nbformat": 4,
 "nbformat_minor": 2
}
